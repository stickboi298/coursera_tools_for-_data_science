{
 "cells": [
  {
   "cell_type": "markdown",
   "id": "84a49bf2",
   "metadata": {},
   "source": [
    "#### Ex 2"
   ]
  },
  {
   "cell_type": "markdown",
   "id": "84146239",
   "metadata": {},
   "source": [
    "## Coursera Tools for Data Science final assignment "
   ]
  },
  {
   "cell_type": "markdown",
   "id": "e1369d06",
   "metadata": {},
   "source": [
    "#### Ex 3"
   ]
  },
  {
   "cell_type": "markdown",
   "id": "4645adb0",
   "metadata": {},
   "source": [
    "This jupyter notebook contains all the requirements being asked of the final assignment of the coursera Tools for Data Science course. "
   ]
  },
  {
   "cell_type": "markdown",
   "id": "97d3d62c",
   "metadata": {},
   "source": [
    "#### Ex 4"
   ]
  },
  {
   "cell_type": "markdown",
   "id": "e236efe4",
   "metadata": {},
   "source": [
    "List of data science languages are: \n",
    "- python \n",
    "- R \n",
    "- SQL \n",
    "- Scala \n",
    "- Javascript \n",
    "- Java \n",
    "- SAS \n",
    "- Julia \n"
   ]
  },
  {
   "cell_type": "markdown",
   "id": "00cdc035",
   "metadata": {},
   "source": [
    "#### Ex 5 "
   ]
  },
  {
   "cell_type": "markdown",
   "id": "096f7408",
   "metadata": {},
   "source": [
    "List of data science libraries are: \n",
    "\n",
    "    For python:\n",
    "        - numpy, pandas for scientific computing \n",
    "        - matplolib, seaborn for data visualisation \n",
    "        - scikit-learn, keras for machine learning & deep learning \n",
    "        - pytorch, tensorflow for deep learning \n",
    "    For R: \n",
    "        - ggplot \n",
    "        - keras and tensorflow \n",
    "        \n",
    "    For scala:\n",
    "        - Big dI\n",
    "        - vegas \n",
    "        "
   ]
  },
  {
   "cell_type": "markdown",
   "id": "b46aad92",
   "metadata": {},
   "source": [
    "#### Ex 6"
   ]
  },
  {
   "cell_type": "markdown",
   "id": "0ef71a87",
   "metadata": {},
   "source": [
    "Data Science tools\n",
    "\n",
    "|Name|\n",
    "| --- |\n",
    "| SAS|\n",
    "| Apache Spark |\n",
    "| MATLAB |\n",
    "| Excel|\n",
    "| PowerBI |\n",
    "| ggplot2|\n",
    "| Tableau|\n",
    "| Jupyter |\n",
    "| TensorFlow|\n",
    "\n"
   ]
  },
  {
   "cell_type": "markdown",
   "id": "1efae938",
   "metadata": {},
   "source": [
    "#### Ex 7 "
   ]
  },
  {
   "cell_type": "markdown",
   "id": "ebdc267a",
   "metadata": {},
   "source": [
    "The following cells aims to introduce arithmetic expression examples. Such as addition , multipication and conversion of units. "
   ]
  },
  {
   "cell_type": "markdown",
   "id": "7488eae8",
   "metadata": {},
   "source": [
    "#### Ex 8 "
   ]
  },
  {
   "cell_type": "code",
   "execution_count": 5,
   "id": "649ab700",
   "metadata": {},
   "outputs": [
    {
     "data": {
      "text/plain": [
       "8"
      ]
     },
     "execution_count": 5,
     "metadata": {},
     "output_type": "execute_result"
    }
   ],
   "source": [
    "(1 + 1) * 4\n"
   ]
  },
  {
   "cell_type": "markdown",
   "id": "779242a3",
   "metadata": {},
   "source": [
    "#### Ex 9 "
   ]
  },
  {
   "cell_type": "code",
   "execution_count": null,
   "id": "a518f2c5",
   "metadata": {},
   "outputs": [],
   "source": [
    "x = int(input(\"please enter a value for time in minutes\"))\n",
    "hour = x/60 \n",
    "print(str(hour) + \" hour\")"
   ]
  },
  {
   "cell_type": "markdown",
   "id": "7ba26649",
   "metadata": {},
   "source": [
    "#### Ex 10 \n"
   ]
  },
  {
   "cell_type": "markdown",
   "id": "15e99024",
   "metadata": {},
   "source": [
    "This jupter notebook's objective is to demonstrate my understanding of the utilisation of jupyter notebook , github and the tools and methods used in data science. "
   ]
  },
  {
   "cell_type": "markdown",
   "id": "83d16f16",
   "metadata": {},
   "source": [
    "#### Ex 11 "
   ]
  },
  {
   "cell_type": "markdown",
   "id": "416f24e9",
   "metadata": {},
   "source": [
    "Author: Zhen Hong Chai \n",
    "\n",
    "Date: 13/03/2023 "
   ]
  },
  {
   "cell_type": "code",
   "execution_count": null,
   "id": "2f098ab7",
   "metadata": {},
   "outputs": [],
   "source": []
  }
 ],
 "metadata": {
  "kernelspec": {
   "display_name": "Python 3 (ipykernel)",
   "language": "python",
   "name": "python3"
  },
  "language_info": {
   "codemirror_mode": {
    "name": "ipython",
    "version": 3
   },
   "file_extension": ".py",
   "mimetype": "text/x-python",
   "name": "python",
   "nbconvert_exporter": "python",
   "pygments_lexer": "ipython3",
   "version": "3.9.7"
  }
 },
 "nbformat": 4,
 "nbformat_minor": 5
}
