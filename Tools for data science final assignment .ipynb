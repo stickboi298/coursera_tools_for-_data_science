{
 "cells": [
  {
   "cell_type": "markdown",
   "id": "84a49bf2",
   "metadata": {},
   "source": [
    "#### Ex 2"
   ]
  },
  {
   "cell_type": "markdown",
   "id": "84146239",
   "metadata": {},
   "source": [
    "## Coursera Tools for Data Science final assignment "
   ]
  },
  {
   "cell_type": "markdown",
   "id": "e1369d06",
   "metadata": {},
   "source": [
    "#### Ex 3"
   ]
  },
  {
   "cell_type": "markdown",
   "id": "4645adb0",
   "metadata": {},
   "source": [
    "This jupyter notebook contains all the requirements being asked of the final assignment of the coursera Tools for Data Science course. "
   ]
  },
  {
   "cell_type": "markdown",
   "id": "97d3d62c",
   "metadata": {},
   "source": [
    "#### Ex 4"
   ]
  },
  {
   "cell_type": "markdown",
   "id": "e236efe4",
   "metadata": {},
   "source": [
    "List of data science languages are: \n",
    "1. python \n",
    "2. R \n",
    "3. SQL \n",
    "4. Scala \n",
    "5. Javascript \n",
    "6. Java \n",
    "7. SAS \n",
    "8. Julia \n"
   ]
  },
  {
   "cell_type": "markdown",
   "id": "00cdc035",
   "metadata": {},
   "source": [
    "#### Ex 5 "
   ]
  },
  {
   "cell_type": "markdown",
   "id": "096f7408",
   "metadata": {},
   "source": [
    "List of data science libraries are: \n",
    "\n",
    "    For python:\n",
    "        - numpy, pandas for scientific computing \n",
    "        - matplolib, seaborn for data visualisation \n",
    "        - scikit-learn, keras for machine learning & deep learning \n",
    "        - pytorch, tensorflow for deep learning \n",
    "    For R: \n",
    "        - ggplot \n",
    "        - keras and tensorflow \n",
    "        \n",
    "    For scala:\n",
    "        - Big dI\n",
    "        - vegas \n",
    "        "
   ]
  },
  {
   "cell_type": "markdown",
   "id": "63f358af",
   "metadata": {},
   "source": [
    "#### Ex 6"
   ]
  },
  {
   "cell_type": "markdown",
   "id": "540a3182",
   "metadata": {},
   "source": [
    "Data Science tools\n",
    "\n",
    "|Name|\n",
    "| --- |\n",
    "| R Studio|\n",
    "| Zeppelin |\n",
    "| Anaconda |\n",
    "| Jupyter notebook|\n",
    "| PowerBI |\n",
    "| ggplot2|\n",
    "| Tableau|\n",
    "| TensorFlow|\n",
    "\n"
   ]
  },
  {
   "cell_type": "markdown",
   "id": "3ac112b8",
   "metadata": {},
   "source": [
    "#### Ex 7 "
   ]
  },
  {
   "cell_type": "markdown",
   "id": "d52cefca",
   "metadata": {},
   "source": [
    "The following cells aims to introduce arithmetic expression examples. Such as addition , multipication and conversion of units. "
   ]
  },
  {
   "cell_type": "markdown",
   "id": "49df8b45",
   "metadata": {},
   "source": [
    "#### Ex 8 "
   ]
  },
  {
   "cell_type": "code",
   "execution_count": 5,
   "id": "52536121",
   "metadata": {},
   "outputs": [
    {
     "data": {
      "text/plain": [
       "8"
      ]
     },
     "execution_count": 5,
     "metadata": {},
     "output_type": "execute_result"
    }
   ],
   "source": [
    "# code below aims to show as an example multiplication and addition functions in python\n",
    "(1 + 1) * 4\n"
   ]
  },
  {
   "cell_type": "markdown",
   "id": "8de61649",
   "metadata": {},
   "source": [
    "#### Ex 9 "
   ]
  },
  {
   "cell_type": "code",
   "execution_count": 11,
   "id": "22e1a8c0",
   "metadata": {},
   "outputs": [
    {
     "name": "stdout",
     "output_type": "stream",
     "text": [
      "please enter a value for time in minutes240\n",
      "4.0 hour\n"
     ]
    }
   ],
   "source": [
    "# code below asks user for an input value in minutes and converts that value into hours \n",
    "x = int(input(\"please enter a value for time in minutes\"))\n",
    "hour = x/60 \n",
    "print(str(hour) + \" hour\")"
   ]
  },
  {
   "cell_type": "markdown",
   "id": "b12a989f",
   "metadata": {},
   "source": [
    "#### Ex 10: Objectives \n"
   ]
  },
  {
   "cell_type": "markdown",
   "id": "216f9cb6",
   "metadata": {},
   "source": [
    "This jupter notebook's objective is to demonstrate my understanding of the utilisation of jupyter notebook , github and the tools and methods used in data science. \n",
    "\n",
    "- Add comments to code cells  \n",
    "- Create mark down cells \n",
    "- Add ordered and uncoded lists to cells \n",
    "- Format content of mark down cells with heading styles "
   ]
  },
  {
   "cell_type": "markdown",
   "id": "cd35db18",
   "metadata": {},
   "source": [
    "#### Ex 11 "
   ]
  },
  {
   "cell_type": "markdown",
   "id": "81b63893",
   "metadata": {},
   "source": [
    "## Authors"
   ]
  },
  {
   "cell_type": "markdown",
   "id": "409863a2",
   "metadata": {},
   "source": [
    "Author: Zhen Hong Chai \n",
    "\n",
    "Date: 13/03/2023 "
   ]
  },
  {
   "cell_type": "code",
   "execution_count": null,
   "id": "c0425a6d",
   "metadata": {},
   "outputs": [],
   "source": []
  }
 ],
 "metadata": {
  "kernelspec": {
   "display_name": "Python 3 (ipykernel)",
   "language": "python",
   "name": "python3"
  },
  "language_info": {
   "codemirror_mode": {
    "name": "ipython",
    "version": 3
   },
   "file_extension": ".py",
   "mimetype": "text/x-python",
   "name": "python",
   "nbconvert_exporter": "python",
   "pygments_lexer": "ipython3",
   "version": "3.9.7"
  }
 },
 "nbformat": 4,
 "nbformat_minor": 5
}
